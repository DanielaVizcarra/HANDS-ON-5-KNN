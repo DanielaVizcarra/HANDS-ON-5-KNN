{
  "nbformat": 4,
  "nbformat_minor": 0,
  "metadata": {
    "colab": {
      "provenance": [],
      "authorship_tag": "ABX9TyMHJePKoqM8tl5ZUynkLqDX",
      "include_colab_link": true
    },
    "kernelspec": {
      "name": "python3",
      "display_name": "Python 3"
    },
    "language_info": {
      "name": "python"
    }
  },
  "cells": [
    {
      "cell_type": "markdown",
      "metadata": {
        "id": "view-in-github",
        "colab_type": "text"
      },
      "source": [
        "<a href=\"https://colab.research.google.com/github/DanielaVizcarra/HANDS-ON-5-KNN/blob/main/tarea_hands_on_5_knn_vizcarra_bernal.ipynb\" target=\"_parent\"><img src=\"https://colab.research.google.com/assets/colab-badge.svg\" alt=\"Open In Colab\"/></a>"
      ]
    },
    {
      "cell_type": "markdown",
      "source": [
        "definimos los datos que vamos a usar y creamos la clase dataset con su constructor y sus metodos get\n"
      ],
      "metadata": {
        "id": "TOHicCXpTv0v"
      }
    },
    {
      "cell_type": "code",
      "source": [
        "# Datos de entrenamiento y nuevo punto\n",
        "datos = {'Peso': [50, 80, 97, 45, 61, 52, 78, 58, 42, 76, 83, 69],\n",
        "         'Altura': [1.48, 1.82, 1.76, 1.55, 1.60, 1.87, 1.82, 1.68, 1.85, 1.72, 1.60, 1.59],\n",
        "         'Genero': ['MUJER', 'HOMBRE', 'HOMBRE', 'MUJER', 'MUJER', 'HOMBRE', 'HOMBRE', 'MUJER', 'HOMBRE', 'HOMBRE', 'MUJER', 'HOMBRE']}\n",
        "ndata = {'Peso': [65], 'Altura': [1.60]}\n",
        "\n",
        "class Dataset:\n",
        "    def __init__(self):  # Constructor\n",
        "        self.X = datos['Peso']\n",
        "        self.Y = datos['Altura']\n",
        "        self.clases = datos['Genero']\n",
        "\n",
        "    def getX(self):#Obtenemos el valor de X y Y, get accede a los datos de X y Y mietras que self.-  accede al atributo X o Y  instanciados dentro del objeto de la clase\n",
        "        return self.X\n",
        "\n",
        "    def getY(self):\n",
        "        return self.Y\n",
        "\n",
        "    def getClases(self):\n",
        "        return self.clases\n"
      ],
      "metadata": {
        "id": "fiGWu4mXVp2G"
      },
      "execution_count": null,
      "outputs": []
    },
    {
      "cell_type": "markdown",
      "source": [
        "\n",
        "\n",
        "creamos la instancia data_set para poder acceder a los datos de la clase contenidos en las variables X y Y.\n",
        "\n",
        "Generamos una lista de tuplas, donde cada una contiene el peso, la altura y el género."
      ],
      "metadata": {
        "id": "7brcslLtYeRq"
      }
    },
    {
      "cell_type": "code",
      "source": [
        "# Preparamos datos para entrenamiento\n",
        "data_set = Dataset()\n",
        "X = data_set.getX()\n",
        "Y = data_set.getY()\n",
        "classes = data_set.getClases()\n",
        "datos_entrenamiento = list(zip(zip(X, Y), classes))"
      ],
      "metadata": {
        "id": "wbCbkK_lYpWv"
      },
      "execution_count": null,
      "outputs": []
    },
    {
      "cell_type": "markdown",
      "source": [
        "Luego de esto creamos la clase KNN que implementa el algoritmo de vecinos más cercanos (k-NN).\n",
        "\n",
        "Donde se inicializa la instancia con el valor de k y una lista vacía para los datos de entrenamiento.Se almacena los datos de entrenamiento en la instancia de la clase.Calcula la distancia euclidiana entre dos puntos.\n",
        "\n",
        "formula: d(p,q)=\n",
        "(x\n",
        "2\n",
        "​\n",
        " −x\n",
        "1\n",
        "​\n",
        " )\n",
        "^2\n",
        " +(y\n",
        "2\n",
        "​\n",
        " −y\n",
        "1\n",
        "​\n",
        " )\n",
        "^2\n",
        "\n",
        "​\n"
      ],
      "metadata": {
        "id": "_c469mkHxK48"
      }
    },
    {
      "cell_type": "code",
      "source": [
        "class KNN:\n",
        "    def __init__(self, k):\n",
        "        self.k = k\n",
        "        self.datos_entrenamiento = []\n",
        "\n",
        "    def entrenar(self, datos_entrenamiento):\n",
        "        # Almacena los datos de entrenamiento\n",
        "        self.datos_entrenamiento = datos_entrenamiento\n",
        "\n",
        "    def _euclidean_distance(self, x, y):\n",
        "        # Calcula la diferencia en cada punto o coordenada\n",
        "        diff_x_y = [x_i - y_i for x_i, y_i in zip(x, y)]\n",
        "\n",
        "        # Eleva al cuadrado cada diferencia\n",
        "        squared_diff = [diff_i ** 2 for diff_i in diff_x_y]\n",
        "\n",
        "        # Suma los cuadrados de las diferencias\n",
        "        sum_squared_diff = sum(squared_diff)\n",
        "\n",
        "        # Calcula la raíz cuadrada de la suma de los cuadrados\n",
        "        distance = sum_squared_diff ** 0.5\n",
        "\n",
        "        return distance\n",
        "\n",
        "    def predecir_clase(self, nuevo_punto):\n",
        "        distancias = []\n",
        "\n",
        "        # Calcula la distancia entre el nuevo punto y cada punto en el conjunto de datos de entrenamiento\n",
        "        for punto, clase in self.datos_entrenamiento:\n",
        "            distancia = self._euclidean_distance(nuevo_punto, punto)\n",
        "            distancias.append((distancia, clase))\n",
        "\n",
        "        # Ordena las distancias de menor a mayor\n",
        "        distancias.sort(key=lambda x: x[0])\n",
        "\n",
        "        # Toma las primeras k distancias (vecinos más cercanos)\n",
        "        k_vecinos = distancias[:self.k]\n",
        "\n",
        "        # Cuenta las clases de los k vecinos\n",
        "        clases_vecinos = [vecino[1] for vecino in k_vecinos]\n",
        "\n",
        "        # Devuelve la clase más común entre los vecinos\n",
        "        clase_predicha = max(set(clases_vecinos), key=clases_vecinos.count)\n",
        "\n",
        "        return clase_predicha\n"
      ],
      "metadata": {
        "id": "fpzsxI8axLkM"
      },
      "execution_count": null,
      "outputs": []
    },
    {
      "cell_type": "markdown",
      "source": [
        "Creamos una instancia de la clase KNN con k=3 y entrena el modelo con los datos de entrenamiento."
      ],
      "metadata": {
        "id": "MfxktsHjZJcr"
      }
    },
    {
      "cell_type": "code",
      "source": [
        "# Creamos instancia y le damos un valor a k\n",
        "knn = KNN(k=3)\n",
        "knn.entrenar(datos_entrenamiento)"
      ],
      "metadata": {
        "id": "ClYNYoEmZYUW"
      },
      "execution_count": null,
      "outputs": []
    },
    {
      "cell_type": "markdown",
      "source": [
        "Ahora si realizamos la predicción para el nuevo punto."
      ],
      "metadata": {
        "id": "aJsHPDL9Zb8f"
      }
    },
    {
      "cell_type": "code",
      "source": [
        "# Realizamos la predicción\n",
        "nuevo_punto = (ndata['Peso'][0], ndata['Altura'][0])\n",
        "clase_predicha = knn.predecir_clase(nuevo_punto)\n",
        "print(f'El nuevo punto {nuevo_punto} se predice como clase: {clase_predicha}')"
      ],
      "metadata": {
        "colab": {
          "base_uri": "https://localhost:8080/"
        },
        "id": "JEOiTAxvZ-EW",
        "outputId": "194e588e-6665-4c0c-9ab5-d4b50dd22c5f"
      },
      "execution_count": null,
      "outputs": [
        {
          "output_type": "stream",
          "name": "stdout",
          "text": [
            "El nuevo punto (65, 1.6) se predice como clase: MUJER\n"
          ]
        }
      ]
    },
    {
      "cell_type": "markdown",
      "source": [
        "Podemos vizualizar los datos de entrenamiento y el nuevo punto en un gráfico de dispersión importando la bilbioteca **matplotlib.pyplot**"
      ],
      "metadata": {
        "id": "9SPCP68raGtu"
      }
    },
    {
      "cell_type": "code",
      "source": [
        "import matplotlib.pyplot as plt\n",
        "\n",
        "import matplotlib.pyplot as plt\n",
        "colors = {'HOMBRE': '#5dc1b9', 'MUJER': '#572364'}\n",
        "plt.scatter([p[0] for p, g in datos_entrenamiento if g == 'HOMBRE'],\n",
        "            [p[1] for p, g in datos_entrenamiento if g == 'HOMBRE'],\n",
        "            c=colors['HOMBRE'], label='Hombre')\n",
        "plt.scatter([p[0] for p, g in datos_entrenamiento if g == 'MUJER'],\n",
        "            [p[1] for p, g in datos_entrenamiento if g == 'MUJER'],\n",
        "            c=colors['MUJER'], label='Mujer')\n",
        "plt.scatter(nuevo_punto[0], nuevo_punto[1], c='grey', label='Nuevo Punto')\n",
        "plt.xlabel(\"Peso\")\n",
        "plt.ylabel(\"Altura\")\n",
        "plt.legend()\n",
        "plt.show()\n"
      ],
      "metadata": {
        "colab": {
          "base_uri": "https://localhost:8080/",
          "height": 449
        },
        "id": "J58wu2aTadx0",
        "outputId": "5ab7cbc5-7dce-4379-cb4d-c5e8b7ceea3e"
      },
      "execution_count": null,
      "outputs": [
        {
          "output_type": "display_data",
          "data": {
            "text/plain": [
              "<Figure size 640x480 with 1 Axes>"
            ],
            "image/png": "[encoded data removed]"
          },
          "metadata": {}
        }
      ]
    }
  ]
}